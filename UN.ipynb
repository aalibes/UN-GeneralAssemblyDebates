{
 "cells": [
  {
   "cell_type": "code",
   "execution_count": 1,
   "metadata": {},
   "outputs": [
    {
     "name": "stderr",
     "output_type": "stream",
     "text": [
      "[nltk_data] Downloading package punkt to /home/aalibes/nltk_data...\n",
      "[nltk_data]   Package punkt is already up-to-date!\n",
      "[nltk_data] Downloading package wordnet to /home/aalibes/nltk_data...\n",
      "[nltk_data]   Package wordnet is already up-to-date!\n",
      "[nltk_data] Downloading package stopwords to\n",
      "[nltk_data]     /home/aalibes/nltk_data...\n",
      "[nltk_data]   Package stopwords is already up-to-date!\n"
     ]
    },
    {
     "data": {
      "text/plain": [
       "True"
      ]
     },
     "execution_count": 1,
     "metadata": {},
     "output_type": "execute_result"
    }
   ],
   "source": [
    "import nltk\n",
    "import pandas as pd\n",
    "import numpy as np\n",
    "nltk.download('punkt')\n",
    "nltk.download('wordnet')\n",
    "nltk.download('stopwords')"
   ]
  },
  {
   "cell_type": "code",
   "execution_count": 64,
   "metadata": {},
   "outputs": [],
   "source": [
    "#NLTK test\n",
    "with open('UN-GD-GA/2020/Niger.txt', 'r') as f:\n",
    "    text_raw = f.read()"
   ]
  },
  {
   "cell_type": "code",
   "execution_count": 65,
   "metadata": {},
   "outputs": [],
   "source": [
    "text_raw = text_raw.replace('.', '. ')"
   ]
  },
  {
   "cell_type": "code",
   "execution_count": 66,
   "metadata": {},
   "outputs": [
    {
     "data": {
      "text/plain": [
       "'Address by Mr.  Mahamadou Issoufou, President of the Republic of the Niger\\n\\nMr.  President, Excellencies Heads of State and Government,Ladies and Gentlemen Heads of Delegations, Ladies, Gentlemen,\\nAt the outset, Mr.  President, I should like to extend my warm congratulations to you on your election as President of this 75th session of the United Nations General Assembly.  I have no doubt that your personal attributes, your long and rich experience and your leadership constitute important assets that will enable the General Assembly to  make  progress  in  fulfilling  the  mandate  entrusted  to  it  by  member  States.   I  can  assure you of the Niger’s readiness to provide you with all of the support you require in carrying out your duties. I  would  also  like  to  pay  a  deserved  tribute  to  the  outgoing  president,  Mr.   Tijjani Muhammad Bande, for his leadership in steering the 74th session, which was marked, as we all know, by the unprecedented COVID-19 pandemic situation. Finally,  I  would  like  to  congratulate  Secretary-General  António  Guterres  for  the  exemplary  work  he  has  accomplished  in  making  our  Organization  more  capable of meeting people’s needs for greater solidarity, security and development, through the promotion of multilateralism.  I commend his leadership in dealing with the unprecedented COVID-19 crisis, in particular his strong advocacy in favour of developing  countries.   He  has  shown  courage  in  implementing  reforms.   The  Niger  appreciates his personal commitment to a global ceasefire as a result of COVID-19 and his initiatives for climate and stability in the Sahel and West Africa. Mr.  President,Since  1  January  2020,  the  Niger  has  been  a  non-permanent  member  of  the  Security Council, which it is presiding over during this month of September. I would like to thank member States for this mark of confidence and esteem in  my  country.   We  are  working  with  members  of  the  Council  and  with  all  other  members of the United Nations to promote international peace and security. The  General  Assembly  is  certainly  the  best  place  to  communicate  with  the  international  community  directly.   That  is  why  I  take  this  opportunity  to  solemnly  announce  that  this  is  the  last  time  I  will  speak  as  President  of  the  Republic  of  the  Niger.  The next presidential election to be held in December in my country will be an opportunity for Nigeriens to choose their new leader.  This deadline fills me with pride, in the knowledge that this is the very first time in its history that the Niger will experience a democratic transfer of power. This deadline will be a decisive moment for the Niger as part of its efforts to deepen  its  democratic  process  and  political  maturity.   It  is  similar  to  other  African  countries  in  democratic  transition.   It  is  gradually  strengthening  its  democratic  institutions and I have no doubt that in the long term our country will leave behind the  memories  of  the  trials  and  tribulations  that  have  characterized  its  institutional  development for so long. This  qualitative  development  is  the  result  of  the  work  carried  out  during  my  two  mandates.   Indeed,  from  the  start  of  my  first  mandate,  I  made  respect  for  constitutional  texts  and  institutions  a  cardinal  virtue  of  my  governance  for  the  renaissance of the Niger.  My wish was to see the Niger undergo a transformation across all levels: political, economic and social.  The results of ten years of implementing the renaissance programme have been largely positive.  We have built roads, electrified villages, developed telecommunications infrastructure, fed Nigeriens thanks to the 3N initiative, “Nigeriens Nourishing Nigeriens”, educated and cared for our children, promoted access to water and sanitation and finally, created jobs, especially for young people.   Furthermore,  despite  the  threats  from  terrorist  and  criminal  organizations  rocking  the  Sahel  and  the  Lake  Chad  basin,  we  have  been  able  to  preserve  the  integrity of our territory. Mr.  President,At  this  time  of  international  crisis  linked  to  the  COVID-19  pandemic,  the  theme chosen for our session is more important than ever.  Decisions and consensus are expected of the United Nations so that the international community can act in the most  effective  way  to  jointly  overcome  the  consequences  of  the  pandemic.   Now  is  the time to act on the Charter’s provisions, which forcefully stipulate that the United Nations was created to serve the people. We should therefore reflect on our common future, 75 years after the creation of the United Nations.  It is essential that we take steps to make the UN better able to  respond  to  the  challenges  facing  the  world.   Democratic  governance  must  be  better  reflected  at  the  global  level.   We  need  a  more  inclusive  multilateralism  that  is  more  responsive  to  developing  countries  and  better  reflects  the  realities  of  the  world today.  In this way, we will build a more effective multilateralism together for better global governance.  We need to build confidence.  We need to develop inclusion and transparency. We  must  reaffirm  our  collective  commitment  to  multilateralism.   We  must  return  to  resolute  action  in  favour  of  efficiency,  representativeness,  responsibility  a nd sol id a r it y. Mr.  President,The measures taken by the Nigerien government to tackle the pandemic have enabled us to control its spread while taking the appropriate measures to deal with its socioeconomic impacts.  Therefore, our response plan covers both the immediate health response and broader economic and social alleviation measures.  Key elements are already being implemented, such as food distribution, two months of free public services  for  the  most  vulnerable  households  and  temporary  tax  relief  for  the  most  hard-hit sectors.  We are also providing support to the private sector in the form of loan guarantees. COVID-19 is putting great strain on our health-care systems.  It is also affecting our  responses  to  combat  malaria,  tuberculosis  and  other  tropical  diseases  that  are  too often neglected.  Here I would like to reiterate my call for vaccination for all.  In addition  to  the  efforts  to  make  the  COVID-19  vaccine  available,  we  must  continue  to  support  research  into  vaccines  or  improved  treatments  against  diseases  such  as malaria, cancer, diabetes and the Ebola virus.  In this regard, I am delighted that polio has been officially eradicated in Africa.  Moreover, this is the place to commend and congratulate the health-care soldiers in the war against COVID19.  I know that since 2013, world health worker week is celebrated at the beginning of April each year, at the  initiative  of  the  WHO.   I  propose  celebrating  an  international  day  of  front-line  health workers given their role in the fight against COVID19. COVID-19  must  lead  us  to  strengthen  our  investments  in  the  health  system,  in particular, care for women and girls.  The needs are particularly important on the African continent, where approximately 17% of the world’s population is concentrated, for  1%  of  global  health-care  expenditure.   It  is  also  important  that  we  rethink  the  issue  of  access  to  medicines  because  according  to  figures  from  the  World  Health  Organization, 42% of medical products sold in Africa are substandard or counterfeit.  The coronavirus pandemic reminds us that the global health system remains fragile.  Coordinated, decisive and innovative political action, in partnership with the United Nations  and  other  international  organizations,  is  needed  to  address  the  COVID-19  pandemic.  Defeating COVID-19 means including Africa in the global response based on Africa’s common continental Strategy. I  would  like  to  commend  the  efforts  of  the  G20  and  the  United  Nations  Secretary-General,  as  well  as  other  partners,  in  favour  of  granting  a  moratorium  on  the  debt  of  the  most  fragile  States.   In  combating  the  current  emergency,  our  States need financial support, commensurate with the economic crisis they are going through.  A simple moratorium on the debt will not be enough, given the challenges that must be met.  We must write off the debt altogether, and design and implement a  new  paradigm  to  meet  the  development  needs  of  the  poorest  countries.   “The  difficulty  lies  not  so  much  in  developing  new  ideas  as  in  escaping  from  old  ones”  said  a  prominent  economist.   This  is  why  it  is  always  after  shocks  that  the  world  reforms.  The current paradigm dates from the aftermath of the two oil shocks of 1973 and  1979.   Its  unchallenged  domination  has  led  people  to  think  that  it  is  the  end  of  the story.  But it has produced such inequalities that the world is, in this area, in the same situation as at the end of the 19th century.  It was thought that the 2008 financial crisis would be an opportunity for its reform: that did not happen.  Could the shock of COVID-19 provide another opportunity? I deeply hope so.  This shock should be an opportunity to open the debate, including on questions that currently seem utopian such as those relating to the global tax on capital to fight against inequalities, basic universal income to combat poverty, reducing working hours to fight unemployment, and  even  opening  up  borders  to  better  support  the  growth  of  the  world  economy.   Some  think  that  these  are  dreams.   Putting  an  end  to  slavery,  the  emancipation  of  women, universal suffrage — these were also once considered dreams. Mr.  President,To meet the aspirations of the African peoples as contained in Agenda 2063, I have steered on behalf of my African peers since 2017, a new dynamic of regional integration by operationalizing the African Continental Free Trade Area (AfCFTA), whose operational phase was launched on 7 July 2019 in Niamey.  The AfCFTA will enable  Africa  to  set  up  a  single  market  in  order  to  support  economic  growth  and  create prosperity, in particular through creating jobs for young people, with 10 to 12 million currently entering the labour market each year. Africa’s  growth  and  development  looked  promising  at  the  start  of  2020.   Growth was expected to rise from 2. 9% in 2019 to 3. 2% in 2020 and 3. 5% in 2021.  \\n\\nSignificant  progress  was  being  made  in  poverty  reduction  and  health  indicators.   COVID-19 has shattered that impetus and many of our countries will be in recession.  Before COVID-19, Africa needed 600 billion dollars a year to achieve the SDGs.  This figure will certainly be reassessed upwards.  The pandemic therefore requires that we strengthen bilateral, regional and interregional partnerships.  It calls for developing better  coordination  both  with  United  Nations  agencies  and  international  financial  institutions.   The  time  has  come  to  further  strengthen  the  links  between  peace,  security in the broadest sense and development.  This is about coming together in the face  of  a  global  state  of  emergency  that  is  as  much  related  to  health,  the  economy,  society and climate as it is security. The  Niger  is  convinced  that  the  many  threats  to  international  peace  and  security cannot be resolved by individual States, but by the collective action of the international  community.   In  this  regard,  I  would  like  to  pay  tribute  to  the  valiant  peacekeepers  and  elements  from  our  defence  and  security  forces  alongside  whom  they fell in the field of honour, particularly in the Sahel and in the Lake Chad basin.  We welcome the strengthening of the operational and intelligence capacities of the defence and security forces at the national level, the operationalization of the Mixed Multinational Force (FMM) in the Lake Chad Basin and that of the G5 Sahel Joint Force.   With  regard  to  providing  sustainable  funding  to  the  latter,  I  welcome  the  proposal  of  our  Secretary-General,  Mr.   António  Guterres,  drawing  on  inspiration  from the model of the African Union mission in Somalia (AMISOM).  Furthermore, the  creation  of  the  coalition  to  fight  terrorism  in  the  Sahel,  the  establishment  of  a  joint  command  for  all  the  participating  military  forces  including  Barkhane  and  Takuba,  the  upcoming  deployment  by  the  African  Union  of  a  contingent  of  3,000  men, the initiatives of ECOWAS, are all elements that give us hope of victory over our  common  enemy:  terrorism  and  organized  crime.   Here  I  express  our  concern  about the evolution of the situation in Mali, especially following the coup d’état in the country on 18 August. The  Niger  and  the  other  ECOWAS  countries  are  fully  committed  to  finding  solutions to put an end to the crisis in Mali.  This requires that the military return to their barracks and a transition be led by civilian authorities.  In Mali, and throughout the  G5  Sahel  area,  we  need  multilateralism  in  order  to  pursue  the  fight  against  terrorism in all its forms, taking due account of the role of women and young people, because it is on the breeding ground for the poverty that terrorism thrives.  Children are among the first victims of the terrorist attacks targeting schools in the Central Sahel  region  where  thousands  of  children  are  deprived  of  education.   However,  our  region did not create these evils.  They were imposed on it.  Our region is a victim.  In other words, the security threat falling on the Sahel is not just a local issue but a global concern.  The efforts of the Sahel States must therefore be adequately supported both bilaterally and multilaterally.  Here I would also like to commend the sacrifices made by  aid  workers.   I  know  that  they  are  protected  by  resolution  2175  of  2014,  but  this  protection must be strengthened. A follow-up mechanism must be put in place for the disclosure of information and the implementation of sanctions related to attacks against humanitarian workers. Mr.  President,Since  the  Abidjan  summit,  the  partnership  between  Africa  and  Europe  has  been part of a new dynamic enabling the two continents to jointly set their priorities.  It  was  based  on  this  innovative  and  more  inclusive  approach  that  the  UN-AU-EU trilateral group was established to address the plight of African migrants in detention centres in Libya. Here I would like to reaffirm the Niger’s solidarity with the brotherly Libyan people,  who  have  been  subjected  to  untold  suffering  for  more  than  ten  years.   It  is  regrettable  that  the  initially  promising  conclusions  of  the  Berlin  Conference  under  the leadership of Chancellor Merkel have not been respected by those who adopted them.   In  seeking  a  solution  to  this  crisis,  the  role  of  the  African  Union  and  the  countries  neighbouring  Libya  should  not  be  overlooked.   We  are  eagerly  awaiting  the convening of an inter-Libyan National Reconciliation Conference with a view to achieving a political solution to this crisis.  We hope to see the appointment of a joint UN-AU special envoy for Libya. Elsewhere  around  the  world,  including  the  situations  in  Syria,  Burma,  Afghanistan, Iraq, Yemen and the Middle East region, the Niger actively participates in the international community’s efforts to ensure peace and security for populations. On  the  Palestinian  question,  the  Niger  believes  that  the  lasting  settlement  of  this  issue  necessarily  requires  talks  between  Israel  and  Palestine  based  on  fair  and  unanimously  accepted  terms,  that  is  to  say  a  solution  between  the  two  States,  Israel and Palestine, living side-by-side in peace and security, in strict respect of the 1967 borders, and in accordance with the relevant resolutions of the United Nations Security  Council.   In  this  time  of  pandemic,  we  express  our  solidarity  with  the  Palestinian people by supporting UNRWA in its work for the benefit of the vulnerable Palestinian populations.  We extend this solidarity to all countries in crisis.  That is why  we  support  the  call  of  the  United  Nations  Secretary-General  for  a  suspension  or  lifting  of  unilateral  coercive  measures  that  may  hinder  the  ability  of  states  to  effectively combat the COVID-19 pandemic and meet the needs of their populations. Mr.  President,COVID-19  calls  on  us  to  decide  the  world  we  want.   What  post-COVID-19  world do we want to create? What relationship do we want to have with our planet? The  answers  to  these  questions  are,  as  I  mentioned  earlier,  of  a  health,  economic,  humanitarian  and  political  nature.   The  Niger  loses  approximately  one  hundred  thousand  (100,000)  hectares  of  arable  land  each  year,  putting  our  populations  in  a  situation  of  food  insecurity.   It  is  therefore  necessary  to  protect  the  land  and  the  ecosystem essential to human life.  The time has come to create a new social contract for nature on a global scale.  To better recover from the crisis, we must align our exit strategies with the 2030 Sustainable Development Goals and create a sustainable and inclusive economy by reducing the risk of future shocks. Our  lifestyles  and  means  of  consumption  have  a  significant  impact  on  the  planet and on the use of resources.  It is imperative that we change them.  This is why in Africa we are working within the framework of the Climate Commission for the Sahel  region,  which  I  have  the  honour  of  chairing,  for  the  implementation  of  the  Paris Agreement on the continent.  It is in this spirit that we have drawn up a Global Climate Investment Plan for the Sahel region covering the period 2018-2030 which now constitutes a tool to operationalize the implementation of the Paris Agreement in  the  region.   Likewise,  the  Great  Green  Wall  Initiative  also  enables  us  to  build  a  more sustainable and equitable future and to realize our vision of land degradation neutrality.  By preserving the health of our lands and promoting solutions based on respect for nature, we are also preserving the health of our peoples. \\n\\nMr.  President,A century ago, when the Spanish flu hit a world torn apart by the Great War, few  multilateral  institutions  existed.   Countries  today  have  fought  the  pandemic  in  ways  that  did  not  previously  exist  and  have  learned  a  lot.   Today,  the  World  Health  Organization has become the most relevant multilateral framework at our disposal to deal with epidemics in a concerted manner.  Other multilateral institutions such as the World Trade Organization (WTO), the World Bank and the International Monetary Fund (IMF) are all tools to enhance our collective capacity to solve global problems. We  urge  member  States  to  support  the  Secretary-General’s  efforts  to  reform  the  Organization,  strengthen  its  role  and  provide  it  with  the  means  to  enable  it  to  adequately  fulfil  its  missions.   The  Niger  reiterates  once  again  its  commitment  to  the  common  African  position  as  expressed  through  the  Ezulwini  consensus.   The  multilateral  system  arising  from  the  Second  World  War  allowed  us  to  define  and  implement standards and principles based on human development.  Today, respect for the individual, the defence of freedoms and the fight against poverty and epidemics are priorities of the global multilateral system. Beyond  institutional  reforms,  it  is  also  within  our  societies  that  this  fight  is  won, by profoundly changing our behaviour and our policies.  We need to invent an economy that respects people and the environment. Mr.  President,The  75th  Anniversary  of  the  United  Nations  is  an  opportunity  to  reflect  on  how to make it even more capable of meeting new challenges.  We must preserve the gains  generated  by  multilateralism  and  reinforce  them.   If  the  international  system  continues to be perceived as unjust and unequal, if we do not ensure the rule of law over the use of force, if we do not respond to the needs of our citizens, then the factors of  instability  will  multiply  and  the  manifestation  of  ideological  hostility  to  global  governance  and  democratic  models  will  flourish.   The  multilateral  world  we  want  cannot be based exclusively on the balance of power among the great powers.  This is perhaps the most important lesson, Mr.  President, that the COVID-19 crisis will have taught us.  With this in mind, I would like to recall the words of Dag Hammarskjöld who  said  that  the  United  Nations  was  not  created  to  take  mankind  to  heaven,  but  to  save  humanity  from  hell.   Today  we  need  a  more  agile,  more  democratic,  more  coordinated  and  more  effective  United  Nations,  leading  us  towards  a  more  secure,  inclusive and sustainable world. In  conclusion,  I  would  like  to  take  inspiration  from  Thucydides’  famous  phrase:  “We  deserve  praise,  for  paying  more  attention  to  justice  than  compelled  to  do  by  our  power”.   Being  fairer  also  means  doing  everything  to  avoid  falling  into  the  eponymous  trap  in  order  to  protect  humanity  from  a  global  confrontation  with  irreparable  consequences.   We  need  to  find  a  new  global  balance.   This  is  the  opportunity that COVID19 has given us. I thank you for your kind attention. \\n'"
      ]
     },
     "execution_count": 66,
     "metadata": {},
     "output_type": "execute_result"
    }
   ],
   "source": [
    "text_raw"
   ]
  },
  {
   "cell_type": "code",
   "execution_count": 67,
   "metadata": {},
   "outputs": [],
   "source": [
    "text_tokens = nltk.word_tokenize(text_raw)\n",
    "sentence_tokens = nltk.sent_tokenize(text_raw)\n",
    "text1 = nltk.Text(text_tokens)"
   ]
  },
  {
   "cell_type": "code",
   "execution_count": null,
   "metadata": {},
   "outputs": [],
   "source": [
    "from nltk.corpus import stopwords\n",
    "stop_words = set(stopwords.words('english'))  \n",
    "text_filtered = [w for w in text_tokens if not w.lower() in stop_words] "
   ]
  },
  {
   "cell_type": "code",
   "execution_count": null,
   "metadata": {},
   "outputs": [],
   "source": [
    "from nltk.stem import WordNetLemmatizer\n",
    "\n",
    "lemmatizer = WordNetLemmatizer()\n",
    "lemmatized = [lemmatizer.lemmatize(w,'v') for w in text_filtered]"
   ]
  },
  {
   "cell_type": "code",
   "execution_count": null,
   "metadata": {},
   "outputs": [],
   "source": [
    "lemmatized"
   ]
  },
  {
   "cell_type": "code",
   "execution_count": 68,
   "metadata": {},
   "outputs": [],
   "source": [
    "from transformers import pipeline\n",
    "import ipywidgets as widgets\n",
    "# source https://towardsdatascience.com/sentiment-analysis-of-political-speeches-using-hugging-faces-pipeline-feature-3109c121d351\n",
    "# https://github.com/chuachinhon/practical_nlp/blob/master/notebooks/1.0_speech_sentiment_cch.ipynb"
   ]
  },
  {
   "cell_type": "code",
   "execution_count": 69,
   "metadata": {},
   "outputs": [
    {
     "data": {
      "text/plain": [
       "(149, 1)"
      ]
     },
     "execution_count": 69,
     "metadata": {},
     "output_type": "execute_result"
    }
   ],
   "source": [
    "\n",
    "# For the demo here, we'll just run the analysis for 1 speech\n",
    "# First speech is by PM Lee on June 7. Let's break it down by paragraphs\n",
    "\n",
    "pm = pd.DataFrame(sentence_tokens,columns=[\"text\"])\n",
    "pm.shape"
   ]
  },
  {
   "cell_type": "code",
   "execution_count": 70,
   "metadata": {},
   "outputs": [],
   "source": [
    "corpus = list(pm['text'].values)"
   ]
  },
  {
   "cell_type": "code",
   "execution_count": 71,
   "metadata": {},
   "outputs": [
    {
     "name": "stderr",
     "output_type": "stream",
     "text": [
      "Some layers from the model checkpoint at distilbert-base-uncased-finetuned-sst-2-english were not used when initializing TFDistilBertModel: ['dropout_19', 'pre_classifier', 'classifier']\n",
      "- This IS expected if you are initializing TFDistilBertModel from the checkpoint of a model trained on another task or with another architecture (e.g. initializing a BertForSequenceClassification model from a BertForPreTraining model).\n",
      "- This IS NOT expected if you are initializing TFDistilBertModel from the checkpoint of a model that you expect to be exactly identical (initializing a BertForSequenceClassification model from a BertForSequenceClassification model).\n",
      "All the layers of TFDistilBertModel were initialized from the model checkpoint at distilbert-base-uncased-finetuned-sst-2-english.\n",
      "If your task is similar to the task the model of the checkpoint was trained on, you can already use TFDistilBertModel for predictions without further training.\n",
      "Some layers from the model checkpoint at distilbert-base-uncased-finetuned-sst-2-english were not used when initializing TFDistilBertForSequenceClassification: ['dropout_19']\n",
      "- This IS expected if you are initializing TFDistilBertForSequenceClassification from the checkpoint of a model trained on another task or with another architecture (e.g. initializing a BertForSequenceClassification model from a BertForPreTraining model).\n",
      "- This IS NOT expected if you are initializing TFDistilBertForSequenceClassification from the checkpoint of a model that you expect to be exactly identical (initializing a BertForSequenceClassification model from a BertForSequenceClassification model).\n",
      "Some layers of TFDistilBertForSequenceClassification were not initialized from the model checkpoint at distilbert-base-uncased-finetuned-sst-2-english and are newly initialized: ['dropout_155']\n",
      "You should probably TRAIN this model on a down-stream task to be able to use it for predictions and inference.\n"
     ]
    }
   ],
   "source": [
    "nlp_sentiment = pipeline(\"sentiment-analysis\")"
   ]
  },
  {
   "cell_type": "code",
   "execution_count": 72,
   "metadata": {},
   "outputs": [
    {
     "name": "stdout",
     "output_type": "stream",
     "text": [
      "CPU times: user 35.7 s, sys: 7.58 s, total: 43.3 s\n",
      "Wall time: 12.9 s\n"
     ]
    }
   ],
   "source": [
    "%%time\n",
    "\n",
    "pm[\"Sentiment\"] = nlp_sentiment(corpus)"
   ]
  },
  {
   "cell_type": "code",
   "execution_count": 73,
   "metadata": {},
   "outputs": [],
   "source": [
    "pm['Sentiment_Label'] = [x.get('label') for x in pm['Sentiment']]\n",
    "\n",
    "pm['Sentiment_Score'] = [x.get('score') for x in pm['Sentiment']]"
   ]
  },
  {
   "cell_type": "code",
   "execution_count": 74,
   "metadata": {},
   "outputs": [
    {
     "data": {
      "text/plain": [
       "POSITIVE    112\n",
       "NEGATIVE     37\n",
       "Name: Sentiment_Label, dtype: int64"
      ]
     },
     "execution_count": 74,
     "metadata": {},
     "output_type": "execute_result"
    }
   ],
   "source": [
    "pm.head(100)\n",
    "pm['Sentiment_Label'].value_counts()"
   ]
  },
  {
   "cell_type": "code",
   "execution_count": 75,
   "metadata": {},
   "outputs": [],
   "source": [
    "# Tweaking the sentiment score column for visualisation\n",
    "# Absolute value of the score is unchanged, merely the direction so that\n",
    "# the resulting chart is clearer on a divergent axis\n",
    "\n",
    "pm[\"Sentiment_Score\"] = np.where(\n",
    "    pm[\"Sentiment_Label\"] == \"NEGATIVE\", -(pm[\"Sentiment_Score\"]), pm[\"Sentiment_Score\"])"
   ]
  },
  {
   "cell_type": "code",
   "execution_count": 76,
   "metadata": {},
   "outputs": [
    {
     "data": {
      "text/plain": [
       "<matplotlib.axes._subplots.AxesSubplot at 0x7f3187513d60>"
      ]
     },
     "execution_count": 76,
     "metadata": {},
     "output_type": "execute_result"
    },
    {
     "data": {
      "image/png": "[encoded data removed]",
      "text/plain": [
       "<Figure size 432x288 with 1 Axes>"
      ]
     },
     "metadata": {
      "needs_background": "light"
     },
     "output_type": "display_data"
    }
   ],
   "source": [
    "pm[\"Sentiment_Score\"].plot()"
   ]
  },
  {
   "cell_type": "code",
   "execution_count": 77,
   "metadata": {},
   "outputs": [
    {
     "data": {
      "text/plain": [
       "0.4956006775766411"
      ]
     },
     "execution_count": 77,
     "metadata": {},
     "output_type": "execute_result"
    }
   ],
   "source": [
    "np.average(pm[\"Sentiment_Score\"])"
   ]
  },
  {
   "cell_type": "code",
   "execution_count": 78,
   "metadata": {},
   "outputs": [],
   "source": [
    "import plotly\n",
    "import plotly_express as px\n",
    "import plotly.graph_objects as go\n",
    "import matplotlib.pyplot as plt\n",
    "import kaleido"
   ]
  },
  {
   "cell_type": "code",
   "execution_count": 79,
   "metadata": {},
   "outputs": [
    {
     "data": {
      "application/vnd.plotly.v1+json": {
       "config": {
        "plotlyServerURL": "https://plot.ly"
       },
       "data": [
        {
         "colorscale": [
          [
           0,
           "rgb(103,0,31)"
          ],
          [
           0.1,
           "rgb(178,24,43)"
          ],
          [
           0.2,
           "rgb(214,96,77)"
          ],
          [
           0.3,
           "rgb(244,165,130)"
          ],
          [
           0.4,
           "rgb(253,219,199)"
          ],
          [
           0.5,
           "rgb(247,247,247)"
          ],
          [
           0.6,
           "rgb(209,229,240)"
          ],
          [
           0.7,
           "rgb(146,197,222)"
          ],
          [
           0.8,
           "rgb(67,147,195)"
          ],
          [
           0.9,
           "rgb(33,102,172)"
          ],
          [
           1,
           "rgb(5,48,97)"
          ]
         ],
         "type": "heatmap",
         "x": [
          0,
          1,
          2,
          3,
          4,
          5,
          6,
          7,
          8,
          9,
          10,
          11,
          12,
          13,
          14,
          15,
          16,
          17,
          18,
          19,
          20,
          21,
          22,
          23,
          24,
          25,
          26,
          27,
          28,
          29,
          30,
          31,
          32,
          33,
          34,
          35,
          36,
          37,
          38,
          39,
          40,
          41,
          42,
          43,
          44,
          45,
          46,
          47,
          48,
          49,
          50,
          51,
          52,
          53,
          54,
          55,
          56,
          57,
          58,
          59,
          60,
          61,
          62,
          63,
          64,
          65,
          66,
          67,
          68,
          69,
          70,
          71,
          72,
          73,
          74,
          75,
          76,
          77,
          78,
          79,
          80,
          81,
          82,
          83,
          84,
          85,
          86,
          87,
          88,
          89,
          90,
          91,
          92,
          93,
          94,
          95,
          96,
          97,
          98,
          99,
          100,
          101,
          102,
          103,
          104,
          105,
          106,
          107,
          108,
          109,
          110,
          111,
          112,
          113,
          114,
          115,
          116,
          117,
          118,
          119,
          120,
          121,
          122,
          123,
          124,
          125,
          126,
          127,
          128,
          129,
          130,
          131,
          132,
          133,
          134,
          135,
          136,
          137,
          138,
          139,
          140,
          141,
          142,
          143,
          144,
          145,
          146,
          147,
          148
         ],
         "y": [
          "POSITIVE",
          "POSITIVE",
          "POSITIVE",
          "POSITIVE",
          "POSITIVE",
          "POSITIVE",
          "POSITIVE",
          "POSITIVE",
          "POSITIVE",
          "POSITIVE",
          "POSITIVE",
          "POSITIVE",
          "NEGATIVE",
          "POSITIVE",
          "POSITIVE",
          "POSITIVE",
          "POSITIVE",
          "POSITIVE",
          "POSITIVE",
          "POSITIVE",
          "POSITIVE",
          "POSITIVE",
          "POSITIVE",
          "POSITIVE",
          "POSITIVE",
          "POSITIVE",
          "POSITIVE",
          "POSITIVE",
          "POSITIVE",
          "NEGATIVE",
          "POSITIVE",
          "POSITIVE",
          "NEGATIVE",
          "NEGATIVE",
          "POSITIVE",
          "POSITIVE",
          "POSITIVE",
          "NEGATIVE",
          "POSITIVE",
          "NEGATIVE",
          "POSITIVE",
          "NEGATIVE",
          "POSITIVE",
          "POSITIVE",
          "POSITIVE",
          "POSITIVE",
          "POSITIVE",
          "POSITIVE",
          "POSITIVE",
          "POSITIVE",
          "NEGATIVE",
          "POSITIVE",
          "NEGATIVE",
          "POSITIVE",
          "POSITIVE",
          "NEGATIVE",
          "NEGATIVE",
          "NEGATIVE",
          "POSITIVE",
          "POSITIVE",
          "NEGATIVE",
          "NEGATIVE",
          "NEGATIVE",
          "NEGATIVE",
          "POSITIVE",
          "POSITIVE",
          "POSITIVE",
          "POSITIVE",
          "POSITIVE",
          "POSITIVE",
          "POSITIVE",
          "POSITIVE",
          "POSITIVE",
          "POSITIVE",
          "POSITIVE",
          "POSITIVE",
          "NEGATIVE",
          "NEGATIVE",
          "NEGATIVE",
          "POSITIVE",
          "NEGATIVE",
          "POSITIVE",
          "POSITIVE",
          "NEGATIVE",
          "POSITIVE",
          "POSITIVE",
          "POSITIVE",
          "POSITIVE",
          "POSITIVE",
          "POSITIVE",
          "NEGATIVE",
          "POSITIVE",
          "NEGATIVE",
          "NEGATIVE",
          "NEGATIVE",
          "NEGATIVE",
          "POSITIVE",
          "NEGATIVE",
          "POSITIVE",
          "NEGATIVE",
          "NEGATIVE",
          "POSITIVE",
          "POSITIVE",
          "POSITIVE",
          "NEGATIVE",
          "POSITIVE",
          "POSITIVE",
          "POSITIVE",
          "POSITIVE",
          "POSITIVE",
          "POSITIVE",
          "POSITIVE",
          "NEGATIVE",
          "POSITIVE",
          "POSITIVE",
          "NEGATIVE",
          "POSITIVE",
          "NEGATIVE",
          "POSITIVE",
          "POSITIVE",
          "POSITIVE",
          "POSITIVE",
          "NEGATIVE",
          "POSITIVE",
          "POSITIVE",
          "POSITIVE",
          "POSITIVE",
          "NEGATIVE",
          "POSITIVE",
          "POSITIVE",
          "POSITIVE",
          "POSITIVE",
          "NEGATIVE",
          "POSITIVE",
          "POSITIVE",
          "POSITIVE",
          "POSITIVE",
          "POSITIVE",
          "POSITIVE",
          "POSITIVE",
          "POSITIVE",
          "POSITIVE",
          "POSITIVE",
          "POSITIVE",
          "POSITIVE",
          "POSITIVE",
          "NEGATIVE",
          "POSITIVE",
          "POSITIVE"
         ],
         "z": [
          0.9997043609619141,
          0.9997814893722534,
          0.9972476363182068,
          0.9973001480102539,
          0.9996641278266907,
          0.9995547533035278,
          0.9997469782829285,
          0.9992353320121765,
          0.958200216293335,
          0.9998621344566345,
          0.9994347095489502,
          0.9997766017913818,
          -0.7013534307479858,
          0.9992693662643433,
          0.9996099472045898,
          0.9984753727912903,
          0.9733054041862488,
          0.9964659214019775,
          0.860598087310791,
          0.9994657635688782,
          0.9941310882568359,
          0.9998024106025696,
          0.9979918599128723,
          0.9996469616889954,
          0.9992706775665283,
          0.549541175365448,
          0.9505605697631836,
          0.999424159526825,
          0.979354202747345,
          -0.9408290386199951,
          0.9736586809158325,
          0.9984961152076721,
          -0.9961594343185425,
          -0.670411229133606,
          0.9958970546722412,
          0.7665250897407532,
          0.976554811000824,
          -0.9618145823478699,
          0.9771467447280884,
          -0.9874634146690369,
          0.8760752081871033,
          -0.9705233573913574,
          0.9880385398864746,
          0.9997983574867249,
          0.9995269775390625,
          0.997484028339386,
          0.9960275292396545,
          0.9987989664077759,
          0.9604665040969849,
          0.8353277444839478,
          -0.9907577633857727,
          0.9996141195297241,
          -0.9741050601005554,
          0.9990575313568115,
          0.7610035538673401,
          -0.996084451675415,
          -0.9842431545257568,
          -0.9960503578186035,
          0.9986763596534729,
          0.7713159322738647,
          -0.9976524114608765,
          -0.9253312349319458,
          -0.9980947971343994,
          -0.9981849193572998,
          0.9998311996459961,
          0.9975196123123169,
          0.9815917611122131,
          0.9659959673881531,
          0.9987397193908691,
          0.9992028474807739,
          0.9981376528739929,
          0.9971799850463867,
          0.976702094078064,
          0.9738077521324158,
          0.9940564036369324,
          0.998198926448822,
          -0.9969586133956909,
          -0.9755163788795471,
          -0.988436222076416,
          0.996062159538269,
          -0.6928309202194214,
          0.9993714690208435,
          0.9928578734397888,
          -0.8760722875595093,
          0.9995366930961609,
          0.9996649026870728,
          0.9995062947273254,
          0.9987657070159912,
          0.9972966909408569,
          0.9995330572128296,
          -0.9847983121871948,
          0.9884137511253357,
          -0.9891852736473083,
          -0.9911567568778992,
          -0.9912617206573486,
          -0.9992679357528687,
          0.5021461844444275,
          -0.6401514410972595,
          0.9991773366928101,
          -0.8726963400840759,
          -0.9868869781494141,
          0.9996705055236816,
          0.9994467496871948,
          0.9974051117897034,
          -0.9994009733200073,
          0.9960892796516418,
          0.972119152545929,
          0.9950057864189148,
          0.9989234805107117,
          0.9909003973007202,
          0.9982406497001648,
          0.9982062578201294,
          -0.9992907047271729,
          0.9994059801101685,
          0.6232283115386963,
          -0.9171050786972046,
          0.9961674809455872,
          -0.9996247887611389,
          0.9989714622497559,
          0.9958096146583557,
          0.9939975738525391,
          0.9994469285011292,
          -0.9910160303115845,
          0.9963283538818359,
          0.9982522130012512,
          0.9994024038314819,
          0.9997202754020691,
          -0.9152731895446777,
          0.9857888221740723,
          0.9992214441299438,
          0.9990683794021606,
          0.9981687068939209,
          -0.6953043341636658,
          0.9993135929107666,
          0.9983993768692017,
          0.9973376393318176,
          0.5011438131332397,
          0.9997581839561462,
          0.9957364797592163,
          0.9931608438491821,
          0.9719541072845459,
          0.9918830394744873,
          0.9989981055259705,
          0.9965595602989197,
          0.9875250458717346,
          0.9933164715766907,
          -0.9870244264602661,
          0.999708354473114,
          0.9998310208320618
         ]
        }
       ],
       "layout": {
        "autosize": false,
        "height": 600,
        "template": {
         "data": {
          "bar": [
           {
            "error_x": {
             "color": "#2a3f5f"
            },
            "error_y": {
             "color": "#2a3f5f"
            },
            "marker": {
             "line": {
              "color": "#E5ECF6",
              "width": 0.5
             }
            },
            "type": "bar"
           }
          ],
          "barpolar": [
           {
            "marker": {
             "line": {
              "color": "#E5ECF6",
              "width": 0.5
             }
            },
            "type": "barpolar"
           }
          ],
          "carpet": [
           {
            "aaxis": {
             "endlinecolor": "#2a3f5f",
             "gridcolor": "white",
             "linecolor": "white",
             "minorgridcolor": "white",
             "startlinecolor": "#2a3f5f"
            },
            "baxis": {
             "endlinecolor": "#2a3f5f",
             "gridcolor": "white",
             "linecolor": "white",
             "minorgridcolor": "white",
             "startlinecolor": "#2a3f5f"
            },
            "type": "carpet"
           }
          ],
          "choropleth": [
           {
            "colorbar": {
             "outlinewidth": 0,
             "ticks": ""
            },
            "type": "choropleth"
           }
          ],
          "contour": [
           {
            "colorbar": {
             "outlinewidth": 0,
             "ticks": ""
            },
            "colorscale": [
             [
              0,
              "#0d0887"
             ],
             [
              0.1111111111111111,
              "#46039f"
             ],
             [
              0.2222222222222222,
              "#7201a8"
             ],
             [
              0.3333333333333333,
              "#9c179e"
             ],
             [
              0.4444444444444444,
              "#bd3786"
             ],
             [
              0.5555555555555556,
              "#d8576b"
             ],
             [
              0.6666666666666666,
              "#ed7953"
             ],
             [
              0.7777777777777778,
              "#fb9f3a"
             ],
             [
              0.8888888888888888,
              "#fdca26"
             ],
             [
              1,
              "#f0f921"
             ]
            ],
            "type": "contour"
           }
          ],
          "contourcarpet": [
           {
            "colorbar": {
             "outlinewidth": 0,
             "ticks": ""
            },
            "type": "contourcarpet"
           }
          ],
          "heatmap": [
           {
            "colorbar": {
             "outlinewidth": 0,
             "ticks": ""
            },
            "colorscale": [
             [
              0,
              "#0d0887"
             ],
             [
              0.1111111111111111,
              "#46039f"
             ],
             [
              0.2222222222222222,
              "#7201a8"
             ],
             [
              0.3333333333333333,
              "#9c179e"
             ],
             [
              0.4444444444444444,
              "#bd3786"
             ],
             [
              0.5555555555555556,
              "#d8576b"
             ],
             [
              0.6666666666666666,
              "#ed7953"
             ],
             [
              0.7777777777777778,
              "#fb9f3a"
             ],
             [
              0.8888888888888888,
              "#fdca26"
             ],
             [
              1,
              "#f0f921"
             ]
            ],
            "type": "heatmap"
           }
          ],
          "heatmapgl": [
           {
            "colorbar": {
             "outlinewidth": 0,
             "ticks": ""
            },
            "colorscale": [
             [
              0,
              "#0d0887"
             ],
             [
              0.1111111111111111,
              "#46039f"
             ],
             [
              0.2222222222222222,
              "#7201a8"
             ],
             [
              0.3333333333333333,
              "#9c179e"
             ],
             [
              0.4444444444444444,
              "#bd3786"
             ],
             [
              0.5555555555555556,
              "#d8576b"
             ],
             [
              0.6666666666666666,
              "#ed7953"
             ],
             [
              0.7777777777777778,
              "#fb9f3a"
             ],
             [
              0.8888888888888888,
              "#fdca26"
             ],
             [
              1,
              "#f0f921"
             ]
            ],
            "type": "heatmapgl"
           }
          ],
          "histogram": [
           {
            "marker": {
             "colorbar": {
              "outlinewidth": 0,
              "ticks": ""
             }
            },
            "type": "histogram"
           }
          ],
          "histogram2d": [
           {
            "colorbar": {
             "outlinewidth": 0,
             "ticks": ""
            },
            "colorscale": [
             [
              0,
              "#0d0887"
             ],
             [
              0.1111111111111111,
              "#46039f"
             ],
             [
              0.2222222222222222,
              "#7201a8"
             ],
             [
              0.3333333333333333,
              "#9c179e"
             ],
             [
              0.4444444444444444,
              "#bd3786"
             ],
             [
              0.5555555555555556,
              "#d8576b"
             ],
             [
              0.6666666666666666,
              "#ed7953"
             ],
             [
              0.7777777777777778,
              "#fb9f3a"
             ],
             [
              0.8888888888888888,
              "#fdca26"
             ],
             [
              1,
              "#f0f921"
             ]
            ],
            "type": "histogram2d"
           }
          ],
          "histogram2dcontour": [
           {
            "colorbar": {
             "outlinewidth": 0,
             "ticks": ""
            },
            "colorscale": [
             [
              0,
              "#0d0887"
             ],
             [
              0.1111111111111111,
              "#46039f"
             ],
             [
              0.2222222222222222,
              "#7201a8"
             ],
             [
              0.3333333333333333,
              "#9c179e"
             ],
             [
              0.4444444444444444,
              "#bd3786"
             ],
             [
              0.5555555555555556,
              "#d8576b"
             ],
             [
              0.6666666666666666,
              "#ed7953"
             ],
             [
              0.7777777777777778,
              "#fb9f3a"
             ],
             [
              0.8888888888888888,
              "#fdca26"
             ],
             [
              1,
              "#f0f921"
             ]
            ],
            "type": "histogram2dcontour"
           }
          ],
          "mesh3d": [
           {
            "colorbar": {
             "outlinewidth": 0,
             "ticks": ""
            },
            "type": "mesh3d"
           }
          ],
          "parcoords": [
           {
            "line": {
             "colorbar": {
              "outlinewidth": 0,
              "ticks": ""
             }
            },
            "type": "parcoords"
           }
          ],
          "pie": [
           {
            "automargin": true,
            "type": "pie"
           }
          ],
          "scatter": [
           {
            "marker": {
             "colorbar": {
              "outlinewidth": 0,
              "ticks": ""
             }
            },
            "type": "scatter"
           }
          ],
          "scatter3d": [
           {
            "line": {
             "colorbar": {
              "outlinewidth": 0,
              "ticks": ""
             }
            },
            "marker": {
             "colorbar": {
              "outlinewidth": 0,
              "ticks": ""
             }
            },
            "type": "scatter3d"
           }
          ],
          "scattercarpet": [
           {
            "marker": {
             "colorbar": {
              "outlinewidth": 0,
              "ticks": ""
             }
            },
            "type": "scattercarpet"
           }
          ],
          "scattergeo": [
           {
            "marker": {
             "colorbar": {
              "outlinewidth": 0,
              "ticks": ""
             }
            },
            "type": "scattergeo"
           }
          ],
          "scattergl": [
           {
            "marker": {
             "colorbar": {
              "outlinewidth": 0,
              "ticks": ""
             }
            },
            "type": "scattergl"
           }
          ],
          "scattermapbox": [
           {
            "marker": {
             "colorbar": {
              "outlinewidth": 0,
              "ticks": ""
             }
            },
            "type": "scattermapbox"
           }
          ],
          "scatterpolar": [
           {
            "marker": {
             "colorbar": {
              "outlinewidth": 0,
              "ticks": ""
             }
            },
            "type": "scatterpolar"
           }
          ],
          "scatterpolargl": [
           {
            "marker": {
             "colorbar": {
              "outlinewidth": 0,
              "ticks": ""
             }
            },
            "type": "scatterpolargl"
           }
          ],
          "scatterternary": [
           {
            "marker": {
             "colorbar": {
              "outlinewidth": 0,
              "ticks": ""
             }
            },
            "type": "scatterternary"
           }
          ],
          "surface": [
           {
            "colorbar": {
             "outlinewidth": 0,
             "ticks": ""
            },
            "colorscale": [
             [
              0,
              "#0d0887"
             ],
             [
              0.1111111111111111,
              "#46039f"
             ],
             [
              0.2222222222222222,
              "#7201a8"
             ],
             [
              0.3333333333333333,
              "#9c179e"
             ],
             [
              0.4444444444444444,
              "#bd3786"
             ],
             [
              0.5555555555555556,
              "#d8576b"
             ],
             [
              0.6666666666666666,
              "#ed7953"
             ],
             [
              0.7777777777777778,
              "#fb9f3a"
             ],
             [
              0.8888888888888888,
              "#fdca26"
             ],
             [
              1,
              "#f0f921"
             ]
            ],
            "type": "surface"
           }
          ],
          "table": [
           {
            "cells": {
             "fill": {
              "color": "#EBF0F8"
             },
             "line": {
              "color": "white"
             }
            },
            "header": {
             "fill": {
              "color": "#C8D4E3"
             },
             "line": {
              "color": "white"
             }
            },
            "type": "table"
           }
          ]
         },
         "layout": {
          "annotationdefaults": {
           "arrowcolor": "#2a3f5f",
           "arrowhead": 0,
           "arrowwidth": 1
          },
          "autotypenumbers": "strict",
          "coloraxis": {
           "colorbar": {
            "outlinewidth": 0,
            "ticks": ""
           }
          },
          "colorscale": {
           "diverging": [
            [
             0,
             "#8e0152"
            ],
            [
             0.1,
             "#c51b7d"
            ],
            [
             0.2,
             "#de77ae"
            ],
            [
             0.3,
             "#f1b6da"
            ],
            [
             0.4,
             "#fde0ef"
            ],
            [
             0.5,
             "#f7f7f7"
            ],
            [
             0.6,
             "#e6f5d0"
            ],
            [
             0.7,
             "#b8e186"
            ],
            [
             0.8,
             "#7fbc41"
            ],
            [
             0.9,
             "#4d9221"
            ],
            [
             1,
             "#276419"
            ]
           ],
           "sequential": [
            [
             0,
             "#0d0887"
            ],
            [
             0.1111111111111111,
             "#46039f"
            ],
            [
             0.2222222222222222,
             "#7201a8"
            ],
            [
             0.3333333333333333,
             "#9c179e"
            ],
            [
             0.4444444444444444,
             "#bd3786"
            ],
            [
             0.5555555555555556,
             "#d8576b"
            ],
            [
             0.6666666666666666,
             "#ed7953"
            ],
            [
             0.7777777777777778,
             "#fb9f3a"
            ],
            [
             0.8888888888888888,
             "#fdca26"
            ],
            [
             1,
             "#f0f921"
            ]
           ],
           "sequentialminus": [
            [
             0,
             "#0d0887"
            ],
            [
             0.1111111111111111,
             "#46039f"
            ],
            [
             0.2222222222222222,
             "#7201a8"
            ],
            [
             0.3333333333333333,
             "#9c179e"
            ],
            [
             0.4444444444444444,
             "#bd3786"
            ],
            [
             0.5555555555555556,
             "#d8576b"
            ],
            [
             0.6666666666666666,
             "#ed7953"
            ],
            [
             0.7777777777777778,
             "#fb9f3a"
            ],
            [
             0.8888888888888888,
             "#fdca26"
            ],
            [
             1,
             "#f0f921"
            ]
           ]
          },
          "colorway": [
           "#636efa",
           "#EF553B",
           "#00cc96",
           "#ab63fa",
           "#FFA15A",
           "#19d3f3",
           "#FF6692",
           "#B6E880",
           "#FF97FF",
           "#FECB52"
          ],
          "font": {
           "color": "#2a3f5f"
          },
          "geo": {
           "bgcolor": "white",
           "lakecolor": "white",
           "landcolor": "#E5ECF6",
           "showlakes": true,
           "showland": true,
           "subunitcolor": "white"
          },
          "hoverlabel": {
           "align": "left"
          },
          "hovermode": "closest",
          "mapbox": {
           "style": "light"
          },
          "paper_bgcolor": "white",
          "plot_bgcolor": "#E5ECF6",
          "polar": {
           "angularaxis": {
            "gridcolor": "white",
            "linecolor": "white",
            "ticks": ""
           },
           "bgcolor": "#E5ECF6",
           "radialaxis": {
            "gridcolor": "white",
            "linecolor": "white",
            "ticks": ""
           }
          },
          "scene": {
           "xaxis": {
            "backgroundcolor": "#E5ECF6",
            "gridcolor": "white",
            "gridwidth": 2,
            "linecolor": "white",
            "showbackground": true,
            "ticks": "",
            "zerolinecolor": "white"
           },
           "yaxis": {
            "backgroundcolor": "#E5ECF6",
            "gridcolor": "white",
            "gridwidth": 2,
            "linecolor": "white",
            "showbackground": true,
            "ticks": "",
            "zerolinecolor": "white"
           },
           "zaxis": {
            "backgroundcolor": "#E5ECF6",
            "gridcolor": "white",
            "gridwidth": 2,
            "linecolor": "white",
            "showbackground": true,
            "ticks": "",
            "zerolinecolor": "white"
           }
          },
          "shapedefaults": {
           "line": {
            "color": "#2a3f5f"
           }
          },
          "ternary": {
           "aaxis": {
            "gridcolor": "white",
            "linecolor": "white",
            "ticks": ""
           },
           "baxis": {
            "gridcolor": "white",
            "linecolor": "white",
            "ticks": ""
           },
           "bgcolor": "#E5ECF6",
           "caxis": {
            "gridcolor": "white",
            "linecolor": "white",
            "ticks": ""
           }
          },
          "title": {
           "x": 0.05
          },
          "xaxis": {
           "automargin": true,
           "gridcolor": "white",
           "linecolor": "white",
           "ticks": "",
           "title": {
            "standoff": 15
           },
           "zerolinecolor": "white",
           "zerolinewidth": 2
          },
          "yaxis": {
           "automargin": true,
           "gridcolor": "white",
           "linecolor": "white",
           "ticks": "",
           "title": {
            "standoff": 15
           },
           "zerolinecolor": "white",
           "zerolinewidth": 2
          }
         }
        },
        "title": {
         "text": "Niger president speech 2020"
        },
        "width": 1200,
        "yaxis": {
         "autorange": "reversed"
        }
       }
      },
      "text/html": [
       "<div>                            <div id=\"00c0040c-123a-4040-9587-efb3ae87e6e3\" class=\"plotly-graph-div\" style=\"height:600px; width:1200px;\"></div>            <script type=\"text/javascript\">                require([\"plotly\"], function(Plotly) {                    window.PLOTLYENV=window.PLOTLYENV || {};                                    if (document.getElementById(\"00c0040c-123a-4040-9587-efb3ae87e6e3\")) {                    Plotly.newPlot(                        \"00c0040c-123a-4040-9587-efb3ae87e6e3\",                        [{\"colorscale\": [[0.0, \"rgb(103,0,31)\"], [0.1, \"rgb(178,24,43)\"], [0.2, \"rgb(214,96,77)\"], [0.3, \"rgb(244,165,130)\"], [0.4, \"rgb(253,219,199)\"], [0.5, \"rgb(247,247,247)\"], [0.6, \"rgb(209,229,240)\"], [0.7, \"rgb(146,197,222)\"], [0.8, \"rgb(67,147,195)\"], [0.9, \"rgb(33,102,172)\"], [1.0, \"rgb(5,48,97)\"]], \"type\": \"heatmap\", \"x\": [0, 1, 2, 3, 4, 5, 6, 7, 8, 9, 10, 11, 12, 13, 14, 15, 16, 17, 18, 19, 20, 21, 22, 23, 24, 25, 26, 27, 28, 29, 30, 31, 32, 33, 34, 35, 36, 37, 38, 39, 40, 41, 42, 43, 44, 45, 46, 47, 48, 49, 50, 51, 52, 53, 54, 55, 56, 57, 58, 59, 60, 61, 62, 63, 64, 65, 66, 67, 68, 69, 70, 71, 72, 73, 74, 75, 76, 77, 78, 79, 80, 81, 82, 83, 84, 85, 86, 87, 88, 89, 90, 91, 92, 93, 94, 95, 96, 97, 98, 99, 100, 101, 102, 103, 104, 105, 106, 107, 108, 109, 110, 111, 112, 113, 114, 115, 116, 117, 118, 119, 120, 121, 122, 123, 124, 125, 126, 127, 128, 129, 130, 131, 132, 133, 134, 135, 136, 137, 138, 139, 140, 141, 142, 143, 144, 145, 146, 147, 148], \"y\": [\"POSITIVE\", \"POSITIVE\", \"POSITIVE\", \"POSITIVE\", \"POSITIVE\", \"POSITIVE\", \"POSITIVE\", \"POSITIVE\", \"POSITIVE\", \"POSITIVE\", \"POSITIVE\", \"POSITIVE\", \"NEGATIVE\", \"POSITIVE\", \"POSITIVE\", \"POSITIVE\", \"POSITIVE\", \"POSITIVE\", \"POSITIVE\", \"POSITIVE\", \"POSITIVE\", \"POSITIVE\", \"POSITIVE\", \"POSITIVE\", \"POSITIVE\", \"POSITIVE\", \"POSITIVE\", \"POSITIVE\", \"POSITIVE\", \"NEGATIVE\", \"POSITIVE\", \"POSITIVE\", \"NEGATIVE\", \"NEGATIVE\", \"POSITIVE\", \"POSITIVE\", \"POSITIVE\", \"NEGATIVE\", \"POSITIVE\", \"NEGATIVE\", \"POSITIVE\", \"NEGATIVE\", \"POSITIVE\", \"POSITIVE\", \"POSITIVE\", \"POSITIVE\", \"POSITIVE\", \"POSITIVE\", \"POSITIVE\", \"POSITIVE\", \"NEGATIVE\", \"POSITIVE\", \"NEGATIVE\", \"POSITIVE\", \"POSITIVE\", \"NEGATIVE\", \"NEGATIVE\", \"NEGATIVE\", \"POSITIVE\", \"POSITIVE\", \"NEGATIVE\", \"NEGATIVE\", \"NEGATIVE\", \"NEGATIVE\", \"POSITIVE\", \"POSITIVE\", \"POSITIVE\", \"POSITIVE\", \"POSITIVE\", \"POSITIVE\", \"POSITIVE\", \"POSITIVE\", \"POSITIVE\", \"POSITIVE\", \"POSITIVE\", \"POSITIVE\", \"NEGATIVE\", \"NEGATIVE\", \"NEGATIVE\", \"POSITIVE\", \"NEGATIVE\", \"POSITIVE\", \"POSITIVE\", \"NEGATIVE\", \"POSITIVE\", \"POSITIVE\", \"POSITIVE\", \"POSITIVE\", \"POSITIVE\", \"POSITIVE\", \"NEGATIVE\", \"POSITIVE\", \"NEGATIVE\", \"NEGATIVE\", \"NEGATIVE\", \"NEGATIVE\", \"POSITIVE\", \"NEGATIVE\", \"POSITIVE\", \"NEGATIVE\", \"NEGATIVE\", \"POSITIVE\", \"POSITIVE\", \"POSITIVE\", \"NEGATIVE\", \"POSITIVE\", \"POSITIVE\", \"POSITIVE\", \"POSITIVE\", \"POSITIVE\", \"POSITIVE\", \"POSITIVE\", \"NEGATIVE\", \"POSITIVE\", \"POSITIVE\", \"NEGATIVE\", \"POSITIVE\", \"NEGATIVE\", \"POSITIVE\", \"POSITIVE\", \"POSITIVE\", \"POSITIVE\", \"NEGATIVE\", \"POSITIVE\", \"POSITIVE\", \"POSITIVE\", \"POSITIVE\", \"NEGATIVE\", \"POSITIVE\", \"POSITIVE\", \"POSITIVE\", \"POSITIVE\", \"NEGATIVE\", \"POSITIVE\", \"POSITIVE\", \"POSITIVE\", \"POSITIVE\", \"POSITIVE\", \"POSITIVE\", \"POSITIVE\", \"POSITIVE\", \"POSITIVE\", \"POSITIVE\", \"POSITIVE\", \"POSITIVE\", \"POSITIVE\", \"NEGATIVE\", \"POSITIVE\", \"POSITIVE\"], \"z\": [0.9997043609619141, 0.9997814893722534, 0.9972476363182068, 0.9973001480102539, 0.9996641278266907, 0.9995547533035278, 0.9997469782829285, 0.9992353320121765, 0.958200216293335, 0.9998621344566345, 0.9994347095489502, 0.9997766017913818, -0.7013534307479858, 0.9992693662643433, 0.9996099472045898, 0.9984753727912903, 0.9733054041862488, 0.9964659214019775, 0.860598087310791, 0.9994657635688782, 0.9941310882568359, 0.9998024106025696, 0.9979918599128723, 0.9996469616889954, 0.9992706775665283, 0.549541175365448, 0.9505605697631836, 0.999424159526825, 0.979354202747345, -0.9408290386199951, 0.9736586809158325, 0.9984961152076721, -0.9961594343185425, -0.670411229133606, 0.9958970546722412, 0.7665250897407532, 0.976554811000824, -0.9618145823478699, 0.9771467447280884, -0.9874634146690369, 0.8760752081871033, -0.9705233573913574, 0.9880385398864746, 0.9997983574867249, 0.9995269775390625, 0.997484028339386, 0.9960275292396545, 0.9987989664077759, 0.9604665040969849, 0.8353277444839478, -0.9907577633857727, 0.9996141195297241, -0.9741050601005554, 0.9990575313568115, 0.7610035538673401, -0.996084451675415, -0.9842431545257568, -0.9960503578186035, 0.9986763596534729, 0.7713159322738647, -0.9976524114608765, -0.9253312349319458, -0.9980947971343994, -0.9981849193572998, 0.9998311996459961, 0.9975196123123169, 0.9815917611122131, 0.9659959673881531, 0.9987397193908691, 0.9992028474807739, 0.9981376528739929, 0.9971799850463867, 0.976702094078064, 0.9738077521324158, 0.9940564036369324, 0.998198926448822, -0.9969586133956909, -0.9755163788795471, -0.988436222076416, 0.996062159538269, -0.6928309202194214, 0.9993714690208435, 0.9928578734397888, -0.8760722875595093, 0.9995366930961609, 0.9996649026870728, 0.9995062947273254, 0.9987657070159912, 0.9972966909408569, 0.9995330572128296, -0.9847983121871948, 0.9884137511253357, -0.9891852736473083, -0.9911567568778992, -0.9912617206573486, -0.9992679357528687, 0.5021461844444275, -0.6401514410972595, 0.9991773366928101, -0.8726963400840759, -0.9868869781494141, 0.9996705055236816, 0.9994467496871948, 0.9974051117897034, -0.9994009733200073, 0.9960892796516418, 0.972119152545929, 0.9950057864189148, 0.9989234805107117, 0.9909003973007202, 0.9982406497001648, 0.9982062578201294, -0.9992907047271729, 0.9994059801101685, 0.6232283115386963, -0.9171050786972046, 0.9961674809455872, -0.9996247887611389, 0.9989714622497559, 0.9958096146583557, 0.9939975738525391, 0.9994469285011292, -0.9910160303115845, 0.9963283538818359, 0.9982522130012512, 0.9994024038314819, 0.9997202754020691, -0.9152731895446777, 0.9857888221740723, 0.9992214441299438, 0.9990683794021606, 0.9981687068939209, -0.6953043341636658, 0.9993135929107666, 0.9983993768692017, 0.9973376393318176, 0.5011438131332397, 0.9997581839561462, 0.9957364797592163, 0.9931608438491821, 0.9719541072845459, 0.9918830394744873, 0.9989981055259705, 0.9965595602989197, 0.9875250458717346, 0.9933164715766907, -0.9870244264602661, 0.999708354473114, 0.9998310208320618]}],                        {\"autosize\": false, \"height\": 600, \"template\": {\"data\": {\"bar\": [{\"error_x\": {\"color\": \"#2a3f5f\"}, \"error_y\": {\"color\": \"#2a3f5f\"}, \"marker\": {\"line\": {\"color\": \"#E5ECF6\", \"width\": 0.5}}, \"type\": \"bar\"}], \"barpolar\": [{\"marker\": {\"line\": {\"color\": \"#E5ECF6\", \"width\": 0.5}}, \"type\": \"barpolar\"}], \"carpet\": [{\"aaxis\": {\"endlinecolor\": \"#2a3f5f\", \"gridcolor\": \"white\", \"linecolor\": \"white\", \"minorgridcolor\": \"white\", \"startlinecolor\": \"#2a3f5f\"}, \"baxis\": {\"endlinecolor\": \"#2a3f5f\", \"gridcolor\": \"white\", \"linecolor\": \"white\", \"minorgridcolor\": \"white\", \"startlinecolor\": \"#2a3f5f\"}, \"type\": \"carpet\"}], \"choropleth\": [{\"colorbar\": {\"outlinewidth\": 0, \"ticks\": \"\"}, \"type\": \"choropleth\"}], \"contour\": [{\"colorbar\": {\"outlinewidth\": 0, \"ticks\": \"\"}, \"colorscale\": [[0.0, \"#0d0887\"], [0.1111111111111111, \"#46039f\"], [0.2222222222222222, \"#7201a8\"], [0.3333333333333333, \"#9c179e\"], [0.4444444444444444, \"#bd3786\"], [0.5555555555555556, \"#d8576b\"], [0.6666666666666666, \"#ed7953\"], [0.7777777777777778, \"#fb9f3a\"], [0.8888888888888888, \"#fdca26\"], [1.0, \"#f0f921\"]], \"type\": \"contour\"}], \"contourcarpet\": [{\"colorbar\": {\"outlinewidth\": 0, \"ticks\": \"\"}, \"type\": \"contourcarpet\"}], \"heatmap\": [{\"colorbar\": {\"outlinewidth\": 0, \"ticks\": \"\"}, \"colorscale\": [[0.0, \"#0d0887\"], [0.1111111111111111, \"#46039f\"], [0.2222222222222222, \"#7201a8\"], [0.3333333333333333, \"#9c179e\"], [0.4444444444444444, \"#bd3786\"], [0.5555555555555556, \"#d8576b\"], [0.6666666666666666, \"#ed7953\"], [0.7777777777777778, \"#fb9f3a\"], [0.8888888888888888, \"#fdca26\"], [1.0, \"#f0f921\"]], \"type\": \"heatmap\"}], \"heatmapgl\": [{\"colorbar\": {\"outlinewidth\": 0, \"ticks\": \"\"}, \"colorscale\": [[0.0, \"#0d0887\"], [0.1111111111111111, \"#46039f\"], [0.2222222222222222, \"#7201a8\"], [0.3333333333333333, \"#9c179e\"], [0.4444444444444444, \"#bd3786\"], [0.5555555555555556, \"#d8576b\"], [0.6666666666666666, \"#ed7953\"], [0.7777777777777778, \"#fb9f3a\"], [0.8888888888888888, \"#fdca26\"], [1.0, \"#f0f921\"]], \"type\": \"heatmapgl\"}], \"histogram\": [{\"marker\": {\"colorbar\": {\"outlinewidth\": 0, \"ticks\": \"\"}}, \"type\": \"histogram\"}], \"histogram2d\": [{\"colorbar\": {\"outlinewidth\": 0, \"ticks\": \"\"}, \"colorscale\": [[0.0, \"#0d0887\"], [0.1111111111111111, \"#46039f\"], [0.2222222222222222, \"#7201a8\"], [0.3333333333333333, \"#9c179e\"], [0.4444444444444444, \"#bd3786\"], [0.5555555555555556, \"#d8576b\"], [0.6666666666666666, \"#ed7953\"], [0.7777777777777778, \"#fb9f3a\"], [0.8888888888888888, \"#fdca26\"], [1.0, \"#f0f921\"]], \"type\": \"histogram2d\"}], \"histogram2dcontour\": [{\"colorbar\": {\"outlinewidth\": 0, \"ticks\": \"\"}, \"colorscale\": [[0.0, \"#0d0887\"], [0.1111111111111111, \"#46039f\"], [0.2222222222222222, \"#7201a8\"], [0.3333333333333333, \"#9c179e\"], [0.4444444444444444, \"#bd3786\"], [0.5555555555555556, \"#d8576b\"], [0.6666666666666666, \"#ed7953\"], [0.7777777777777778, \"#fb9f3a\"], [0.8888888888888888, \"#fdca26\"], [1.0, \"#f0f921\"]], \"type\": \"histogram2dcontour\"}], \"mesh3d\": [{\"colorbar\": {\"outlinewidth\": 0, \"ticks\": \"\"}, \"type\": \"mesh3d\"}], \"parcoords\": [{\"line\": {\"colorbar\": {\"outlinewidth\": 0, \"ticks\": \"\"}}, \"type\": \"parcoords\"}], \"pie\": [{\"automargin\": true, \"type\": \"pie\"}], \"scatter\": [{\"marker\": {\"colorbar\": {\"outlinewidth\": 0, \"ticks\": \"\"}}, \"type\": \"scatter\"}], \"scatter3d\": [{\"line\": {\"colorbar\": {\"outlinewidth\": 0, \"ticks\": \"\"}}, \"marker\": {\"colorbar\": {\"outlinewidth\": 0, \"ticks\": \"\"}}, \"type\": \"scatter3d\"}], \"scattercarpet\": [{\"marker\": {\"colorbar\": {\"outlinewidth\": 0, \"ticks\": \"\"}}, \"type\": \"scattercarpet\"}], \"scattergeo\": [{\"marker\": {\"colorbar\": {\"outlinewidth\": 0, \"ticks\": \"\"}}, \"type\": \"scattergeo\"}], \"scattergl\": [{\"marker\": {\"colorbar\": {\"outlinewidth\": 0, \"ticks\": \"\"}}, \"type\": \"scattergl\"}], \"scattermapbox\": [{\"marker\": {\"colorbar\": {\"outlinewidth\": 0, \"ticks\": \"\"}}, \"type\": \"scattermapbox\"}], \"scatterpolar\": [{\"marker\": {\"colorbar\": {\"outlinewidth\": 0, \"ticks\": \"\"}}, \"type\": \"scatterpolar\"}], \"scatterpolargl\": [{\"marker\": {\"colorbar\": {\"outlinewidth\": 0, \"ticks\": \"\"}}, \"type\": \"scatterpolargl\"}], \"scatterternary\": [{\"marker\": {\"colorbar\": {\"outlinewidth\": 0, \"ticks\": \"\"}}, \"type\": \"scatterternary\"}], \"surface\": [{\"colorbar\": {\"outlinewidth\": 0, \"ticks\": \"\"}, \"colorscale\": [[0.0, \"#0d0887\"], [0.1111111111111111, \"#46039f\"], [0.2222222222222222, \"#7201a8\"], [0.3333333333333333, \"#9c179e\"], [0.4444444444444444, \"#bd3786\"], [0.5555555555555556, \"#d8576b\"], [0.6666666666666666, \"#ed7953\"], [0.7777777777777778, \"#fb9f3a\"], [0.8888888888888888, \"#fdca26\"], [1.0, \"#f0f921\"]], \"type\": \"surface\"}], \"table\": [{\"cells\": {\"fill\": {\"color\": \"#EBF0F8\"}, \"line\": {\"color\": \"white\"}}, \"header\": {\"fill\": {\"color\": \"#C8D4E3\"}, \"line\": {\"color\": \"white\"}}, \"type\": \"table\"}]}, \"layout\": {\"annotationdefaults\": {\"arrowcolor\": \"#2a3f5f\", \"arrowhead\": 0, \"arrowwidth\": 1}, \"autotypenumbers\": \"strict\", \"coloraxis\": {\"colorbar\": {\"outlinewidth\": 0, \"ticks\": \"\"}}, \"colorscale\": {\"diverging\": [[0, \"#8e0152\"], [0.1, \"#c51b7d\"], [0.2, \"#de77ae\"], [0.3, \"#f1b6da\"], [0.4, \"#fde0ef\"], [0.5, \"#f7f7f7\"], [0.6, \"#e6f5d0\"], [0.7, \"#b8e186\"], [0.8, \"#7fbc41\"], [0.9, \"#4d9221\"], [1, \"#276419\"]], \"sequential\": [[0.0, \"#0d0887\"], [0.1111111111111111, \"#46039f\"], [0.2222222222222222, \"#7201a8\"], [0.3333333333333333, \"#9c179e\"], [0.4444444444444444, \"#bd3786\"], [0.5555555555555556, \"#d8576b\"], [0.6666666666666666, \"#ed7953\"], [0.7777777777777778, \"#fb9f3a\"], [0.8888888888888888, \"#fdca26\"], [1.0, \"#f0f921\"]], \"sequentialminus\": [[0.0, \"#0d0887\"], [0.1111111111111111, \"#46039f\"], [0.2222222222222222, \"#7201a8\"], [0.3333333333333333, \"#9c179e\"], [0.4444444444444444, \"#bd3786\"], [0.5555555555555556, \"#d8576b\"], [0.6666666666666666, \"#ed7953\"], [0.7777777777777778, \"#fb9f3a\"], [0.8888888888888888, \"#fdca26\"], [1.0, \"#f0f921\"]]}, \"colorway\": [\"#636efa\", \"#EF553B\", \"#00cc96\", \"#ab63fa\", \"#FFA15A\", \"#19d3f3\", \"#FF6692\", \"#B6E880\", \"#FF97FF\", \"#FECB52\"], \"font\": {\"color\": \"#2a3f5f\"}, \"geo\": {\"bgcolor\": \"white\", \"lakecolor\": \"white\", \"landcolor\": \"#E5ECF6\", \"showlakes\": true, \"showland\": true, \"subunitcolor\": \"white\"}, \"hoverlabel\": {\"align\": \"left\"}, \"hovermode\": \"closest\", \"mapbox\": {\"style\": \"light\"}, \"paper_bgcolor\": \"white\", \"plot_bgcolor\": \"#E5ECF6\", \"polar\": {\"angularaxis\": {\"gridcolor\": \"white\", \"linecolor\": \"white\", \"ticks\": \"\"}, \"bgcolor\": \"#E5ECF6\", \"radialaxis\": {\"gridcolor\": \"white\", \"linecolor\": \"white\", \"ticks\": \"\"}}, \"scene\": {\"xaxis\": {\"backgroundcolor\": \"#E5ECF6\", \"gridcolor\": \"white\", \"gridwidth\": 2, \"linecolor\": \"white\", \"showbackground\": true, \"ticks\": \"\", \"zerolinecolor\": \"white\"}, \"yaxis\": {\"backgroundcolor\": \"#E5ECF6\", \"gridcolor\": \"white\", \"gridwidth\": 2, \"linecolor\": \"white\", \"showbackground\": true, \"ticks\": \"\", \"zerolinecolor\": \"white\"}, \"zaxis\": {\"backgroundcolor\": \"#E5ECF6\", \"gridcolor\": \"white\", \"gridwidth\": 2, \"linecolor\": \"white\", \"showbackground\": true, \"ticks\": \"\", \"zerolinecolor\": \"white\"}}, \"shapedefaults\": {\"line\": {\"color\": \"#2a3f5f\"}}, \"ternary\": {\"aaxis\": {\"gridcolor\": \"white\", \"linecolor\": \"white\", \"ticks\": \"\"}, \"baxis\": {\"gridcolor\": \"white\", \"linecolor\": \"white\", \"ticks\": \"\"}, \"bgcolor\": \"#E5ECF6\", \"caxis\": {\"gridcolor\": \"white\", \"linecolor\": \"white\", \"ticks\": \"\"}}, \"title\": {\"x\": 0.05}, \"xaxis\": {\"automargin\": true, \"gridcolor\": \"white\", \"linecolor\": \"white\", \"ticks\": \"\", \"title\": {\"standoff\": 15}, \"zerolinecolor\": \"white\", \"zerolinewidth\": 2}, \"yaxis\": {\"automargin\": true, \"gridcolor\": \"white\", \"linecolor\": \"white\", \"ticks\": \"\", \"title\": {\"standoff\": 15}, \"zerolinecolor\": \"white\", \"zerolinewidth\": 2}}}, \"title\": {\"text\": \"Niger president speech 2020\"}, \"width\": 1200, \"yaxis\": {\"autorange\": \"reversed\"}},                        {\"responsive\": true}                    ).then(function(){\n",
       "                            \n",
       "var gd = document.getElementById('00c0040c-123a-4040-9587-efb3ae87e6e3');\n",
       "var x = new MutationObserver(function (mutations, observer) {{\n",
       "        var display = window.getComputedStyle(gd).display;\n",
       "        if (!display || display === 'none') {{\n",
       "            console.log([gd, 'removed!']);\n",
       "            Plotly.purge(gd);\n",
       "            observer.disconnect();\n",
       "        }}\n",
       "}});\n",
       "\n",
       "// Listen for the removal of the full notebook cells\n",
       "var notebookContainer = gd.closest('#notebook-container');\n",
       "if (notebookContainer) {{\n",
       "    x.observe(notebookContainer, {childList: true});\n",
       "}}\n",
       "\n",
       "// Listen for the clearing of the current output cell\n",
       "var outputEl = gd.closest('.output');\n",
       "if (outputEl) {{\n",
       "    x.observe(outputEl, {childList: true});\n",
       "}}\n",
       "\n",
       "                        })                };                });            </script>        </div>"
      ]
     },
     "metadata": {},
     "output_type": "display_data"
    }
   ],
   "source": [
    "# I experimented with various plots and settled on Plotly's Heatmap\n",
    "df = pm\n",
    "\n",
    "\n",
    "fig = go.Figure(\n",
    "    data=go.Heatmap(\n",
    "        z=df[\"Sentiment_Score\"],\n",
    "        x=df.index,\n",
    "        y=df[\"Sentiment_Label\"],\n",
    "        colorscale=px.colors.sequential.RdBu,\n",
    "    )\n",
    ")\n",
    "\n",
    "fig.update_layout(\n",
    "    title=go.layout.Title(text=\"Niger president speech 2020\"),\n",
    "    autosize=False,\n",
    "    width=1200,\n",
    "    height=600,\n",
    ")\n",
    "\n",
    "fig.update_layout(yaxis_autorange = \"reversed\")\n",
    "\n",
    "fig.show()\n",
    "fig.to_image(format=\"png\", engine=\"kaleido\")\n",
    "\n",
    "fig.write_image(\"Niger2020.png\")\n"
   ]
  },
  {
   "cell_type": "code",
   "execution_count": 80,
   "metadata": {},
   "outputs": [
    {
     "data": {
      "text/html": [
       "<div>\n",
       "<style scoped>\n",
       "    .dataframe tbody tr th:only-of-type {\n",
       "        vertical-align: middle;\n",
       "    }\n",
       "\n",
       "    .dataframe tbody tr th {\n",
       "        vertical-align: top;\n",
       "    }\n",
       "\n",
       "    .dataframe thead th {\n",
       "        text-align: right;\n",
       "    }\n",
       "</style>\n",
       "<table border=\"1\" class=\"dataframe\">\n",
       "  <thead>\n",
       "    <tr style=\"text-align: right;\">\n",
       "      <th></th>\n",
       "      <th>text</th>\n",
       "      <th>Sentiment</th>\n",
       "      <th>Sentiment_Label</th>\n",
       "      <th>Sentiment_Score</th>\n",
       "    </tr>\n",
       "  </thead>\n",
       "  <tbody>\n",
       "    <tr>\n",
       "      <th>12</th>\n",
       "      <td>That  is  why  I  take  this  opportunity  to ...</td>\n",
       "      <td>{'label': 'NEGATIVE', 'score': 0.7013534307479...</td>\n",
       "      <td>NEGATIVE</td>\n",
       "      <td>-0.701353</td>\n",
       "    </tr>\n",
       "    <tr>\n",
       "      <th>29</th>\n",
       "      <td>Democratic  governance  must  be  better  refl...</td>\n",
       "      <td>{'label': 'NEGATIVE', 'score': 0.9408290386199...</td>\n",
       "      <td>NEGATIVE</td>\n",
       "      <td>-0.940829</td>\n",
       "    </tr>\n",
       "    <tr>\n",
       "      <th>32</th>\n",
       "      <td>We need to build confidence.</td>\n",
       "      <td>{'label': 'NEGATIVE', 'score': 0.9961594343185...</td>\n",
       "      <td>NEGATIVE</td>\n",
       "      <td>-0.996159</td>\n",
       "    </tr>\n",
       "    <tr>\n",
       "      <th>33</th>\n",
       "      <td>We need to develop inclusion and transparency.</td>\n",
       "      <td>{'label': 'NEGATIVE', 'score': 0.670411229133606}</td>\n",
       "      <td>NEGATIVE</td>\n",
       "      <td>-0.670411</td>\n",
       "    </tr>\n",
       "    <tr>\n",
       "      <th>37</th>\n",
       "      <td>Key elements are already being implemented, su...</td>\n",
       "      <td>{'label': 'NEGATIVE', 'score': 0.9618145823478...</td>\n",
       "      <td>NEGATIVE</td>\n",
       "      <td>-0.961815</td>\n",
       "    </tr>\n",
       "    <tr>\n",
       "      <th>39</th>\n",
       "      <td>COVID-19 is putting great strain on our health...</td>\n",
       "      <td>{'label': 'NEGATIVE', 'score': 0.9874634146690...</td>\n",
       "      <td>NEGATIVE</td>\n",
       "      <td>-0.987463</td>\n",
       "    </tr>\n",
       "    <tr>\n",
       "      <th>41</th>\n",
       "      <td>Here I would like to reiterate my call for vac...</td>\n",
       "      <td>{'label': 'NEGATIVE', 'score': 0.9705233573913...</td>\n",
       "      <td>NEGATIVE</td>\n",
       "      <td>-0.970523</td>\n",
       "    </tr>\n",
       "    <tr>\n",
       "      <th>50</th>\n",
       "      <td>The coronavirus pandemic reminds us that the g...</td>\n",
       "      <td>{'label': 'NEGATIVE', 'score': 0.9907577633857...</td>\n",
       "      <td>NEGATIVE</td>\n",
       "      <td>-0.990758</td>\n",
       "    </tr>\n",
       "    <tr>\n",
       "      <th>52</th>\n",
       "      <td>Defeating COVID-19 means including Africa in t...</td>\n",
       "      <td>{'label': 'NEGATIVE', 'score': 0.9741050601005...</td>\n",
       "      <td>NEGATIVE</td>\n",
       "      <td>-0.974105</td>\n",
       "    </tr>\n",
       "    <tr>\n",
       "      <th>55</th>\n",
       "      <td>A simple moratorium on the debt will not be en...</td>\n",
       "      <td>{'label': 'NEGATIVE', 'score': 0.996084451675415}</td>\n",
       "      <td>NEGATIVE</td>\n",
       "      <td>-0.996084</td>\n",
       "    </tr>\n",
       "    <tr>\n",
       "      <th>56</th>\n",
       "      <td>We must write off the debt altogether, and des...</td>\n",
       "      <td>{'label': 'NEGATIVE', 'score': 0.9842431545257...</td>\n",
       "      <td>NEGATIVE</td>\n",
       "      <td>-0.984243</td>\n",
       "    </tr>\n",
       "    <tr>\n",
       "      <th>57</th>\n",
       "      <td>“The  difficulty  lies  not  so  much  in  dev...</td>\n",
       "      <td>{'label': 'NEGATIVE', 'score': 0.9960503578186...</td>\n",
       "      <td>NEGATIVE</td>\n",
       "      <td>-0.996050</td>\n",
       "    </tr>\n",
       "    <tr>\n",
       "      <th>60</th>\n",
       "      <td>Its  unchallenged  domination  has  led  peopl...</td>\n",
       "      <td>{'label': 'NEGATIVE', 'score': 0.9976524114608...</td>\n",
       "      <td>NEGATIVE</td>\n",
       "      <td>-0.997652</td>\n",
       "    </tr>\n",
       "    <tr>\n",
       "      <th>61</th>\n",
       "      <td>But it has produced such inequalities that the...</td>\n",
       "      <td>{'label': 'NEGATIVE', 'score': 0.9253312349319...</td>\n",
       "      <td>NEGATIVE</td>\n",
       "      <td>-0.925331</td>\n",
       "    </tr>\n",
       "    <tr>\n",
       "      <th>62</th>\n",
       "      <td>It was thought that the 2008 financial crisis ...</td>\n",
       "      <td>{'label': 'NEGATIVE', 'score': 0.9980947971343...</td>\n",
       "      <td>NEGATIVE</td>\n",
       "      <td>-0.998095</td>\n",
       "    </tr>\n",
       "    <tr>\n",
       "      <th>63</th>\n",
       "      <td>Could the shock of COVID-19 provide another op...</td>\n",
       "      <td>{'label': 'NEGATIVE', 'score': 0.9981849193572...</td>\n",
       "      <td>NEGATIVE</td>\n",
       "      <td>-0.998185</td>\n",
       "    </tr>\n",
       "    <tr>\n",
       "      <th>76</th>\n",
       "      <td>COVID-19 has shattered that impetus and many o...</td>\n",
       "      <td>{'label': 'NEGATIVE', 'score': 0.9969586133956...</td>\n",
       "      <td>NEGATIVE</td>\n",
       "      <td>-0.996959</td>\n",
       "    </tr>\n",
       "    <tr>\n",
       "      <th>77</th>\n",
       "      <td>Before COVID-19, Africa needed 600 billion dol...</td>\n",
       "      <td>{'label': 'NEGATIVE', 'score': 0.9755163788795...</td>\n",
       "      <td>NEGATIVE</td>\n",
       "      <td>-0.975516</td>\n",
       "    </tr>\n",
       "    <tr>\n",
       "      <th>78</th>\n",
       "      <td>This figure will certainly be reassessed upwards.</td>\n",
       "      <td>{'label': 'NEGATIVE', 'score': 0.988436222076416}</td>\n",
       "      <td>NEGATIVE</td>\n",
       "      <td>-0.988436</td>\n",
       "    </tr>\n",
       "    <tr>\n",
       "      <th>80</th>\n",
       "      <td>It calls for developing better  coordination  ...</td>\n",
       "      <td>{'label': 'NEGATIVE', 'score': 0.6928309202194...</td>\n",
       "      <td>NEGATIVE</td>\n",
       "      <td>-0.692831</td>\n",
       "    </tr>\n",
       "    <tr>\n",
       "      <th>83</th>\n",
       "      <td>The  Niger  is  convinced  that  the  many  th...</td>\n",
       "      <td>{'label': 'NEGATIVE', 'score': 0.8760722875595...</td>\n",
       "      <td>NEGATIVE</td>\n",
       "      <td>-0.876072</td>\n",
       "    </tr>\n",
       "    <tr>\n",
       "      <th>90</th>\n",
       "      <td>This requires that the military return to thei...</td>\n",
       "      <td>{'label': 'NEGATIVE', 'score': 0.9847983121871...</td>\n",
       "      <td>NEGATIVE</td>\n",
       "      <td>-0.984798</td>\n",
       "    </tr>\n",
       "    <tr>\n",
       "      <th>92</th>\n",
       "      <td>Children are among the first victims of the te...</td>\n",
       "      <td>{'label': 'NEGATIVE', 'score': 0.9891852736473...</td>\n",
       "      <td>NEGATIVE</td>\n",
       "      <td>-0.989185</td>\n",
       "    </tr>\n",
       "    <tr>\n",
       "      <th>93</th>\n",
       "      <td>However,  our  region did not create these evils.</td>\n",
       "      <td>{'label': 'NEGATIVE', 'score': 0.9911567568778...</td>\n",
       "      <td>NEGATIVE</td>\n",
       "      <td>-0.991157</td>\n",
       "    </tr>\n",
       "    <tr>\n",
       "      <th>94</th>\n",
       "      <td>They were imposed on it.</td>\n",
       "      <td>{'label': 'NEGATIVE', 'score': 0.9912617206573...</td>\n",
       "      <td>NEGATIVE</td>\n",
       "      <td>-0.991262</td>\n",
       "    </tr>\n",
       "    <tr>\n",
       "      <th>95</th>\n",
       "      <td>Our region is a victim.</td>\n",
       "      <td>{'label': 'NEGATIVE', 'score': 0.9992679357528...</td>\n",
       "      <td>NEGATIVE</td>\n",
       "      <td>-0.999268</td>\n",
       "    </tr>\n",
       "    <tr>\n",
       "      <th>97</th>\n",
       "      <td>The efforts of the Sahel States must therefore...</td>\n",
       "      <td>{'label': 'NEGATIVE', 'score': 0.6401514410972...</td>\n",
       "      <td>NEGATIVE</td>\n",
       "      <td>-0.640151</td>\n",
       "    </tr>\n",
       "    <tr>\n",
       "      <th>99</th>\n",
       "      <td>I  know  that  they  are  protected  by  resol...</td>\n",
       "      <td>{'label': 'NEGATIVE', 'score': 0.8726963400840...</td>\n",
       "      <td>NEGATIVE</td>\n",
       "      <td>-0.872696</td>\n",
       "    </tr>\n",
       "    <tr>\n",
       "      <th>100</th>\n",
       "      <td>A follow-up mechanism must be put in place for...</td>\n",
       "      <td>{'label': 'NEGATIVE', 'score': 0.9868869781494...</td>\n",
       "      <td>NEGATIVE</td>\n",
       "      <td>-0.986887</td>\n",
       "    </tr>\n",
       "    <tr>\n",
       "      <th>104</th>\n",
       "      <td>It  is  regrettable  that  the  initially  pro...</td>\n",
       "      <td>{'label': 'NEGATIVE', 'score': 0.9994009733200...</td>\n",
       "      <td>NEGATIVE</td>\n",
       "      <td>-0.999401</td>\n",
       "    </tr>\n",
       "    <tr>\n",
       "      <th>112</th>\n",
       "      <td>That is why  we  support  the  call  of  the  ...</td>\n",
       "      <td>{'label': 'NEGATIVE', 'score': 0.9992907047271...</td>\n",
       "      <td>NEGATIVE</td>\n",
       "      <td>-0.999291</td>\n",
       "    </tr>\n",
       "    <tr>\n",
       "      <th>115</th>\n",
       "      <td>What relationship do we want to have with our ...</td>\n",
       "      <td>{'label': 'NEGATIVE', 'score': 0.9171050786972...</td>\n",
       "      <td>NEGATIVE</td>\n",
       "      <td>-0.917105</td>\n",
       "    </tr>\n",
       "    <tr>\n",
       "      <th>117</th>\n",
       "      <td>The  Niger  loses  approximately  one  hundred...</td>\n",
       "      <td>{'label': 'NEGATIVE', 'score': 0.9996247887611...</td>\n",
       "      <td>NEGATIVE</td>\n",
       "      <td>-0.999625</td>\n",
       "    </tr>\n",
       "    <tr>\n",
       "      <th>122</th>\n",
       "      <td>It is imperative that we change them.</td>\n",
       "      <td>{'label': 'NEGATIVE', 'score': 0.9910160303115...</td>\n",
       "      <td>NEGATIVE</td>\n",
       "      <td>-0.991016</td>\n",
       "    </tr>\n",
       "    <tr>\n",
       "      <th>127</th>\n",
       "      <td>Mr.  President,A century ago, when the Spanish...</td>\n",
       "      <td>{'label': 'NEGATIVE', 'score': 0.9152731895446...</td>\n",
       "      <td>NEGATIVE</td>\n",
       "      <td>-0.915273</td>\n",
       "    </tr>\n",
       "    <tr>\n",
       "      <th>132</th>\n",
       "      <td>The  Niger  reiterates  once  again  its  comm...</td>\n",
       "      <td>{'label': 'NEGATIVE', 'score': 0.6953043341636...</td>\n",
       "      <td>NEGATIVE</td>\n",
       "      <td>-0.695304</td>\n",
       "    </tr>\n",
       "    <tr>\n",
       "      <th>146</th>\n",
       "      <td>We  need  to  find  a  new  global  balance.</td>\n",
       "      <td>{'label': 'NEGATIVE', 'score': 0.9870244264602...</td>\n",
       "      <td>NEGATIVE</td>\n",
       "      <td>-0.987024</td>\n",
       "    </tr>\n",
       "  </tbody>\n",
       "</table>\n",
       "</div>"
      ],
      "text/plain": [
       "                                                  text  \\\n",
       "12   That  is  why  I  take  this  opportunity  to ...   \n",
       "29   Democratic  governance  must  be  better  refl...   \n",
       "32                        We need to build confidence.   \n",
       "33      We need to develop inclusion and transparency.   \n",
       "37   Key elements are already being implemented, su...   \n",
       "39   COVID-19 is putting great strain on our health...   \n",
       "41   Here I would like to reiterate my call for vac...   \n",
       "50   The coronavirus pandemic reminds us that the g...   \n",
       "52   Defeating COVID-19 means including Africa in t...   \n",
       "55   A simple moratorium on the debt will not be en...   \n",
       "56   We must write off the debt altogether, and des...   \n",
       "57   “The  difficulty  lies  not  so  much  in  dev...   \n",
       "60   Its  unchallenged  domination  has  led  peopl...   \n",
       "61   But it has produced such inequalities that the...   \n",
       "62   It was thought that the 2008 financial crisis ...   \n",
       "63   Could the shock of COVID-19 provide another op...   \n",
       "76   COVID-19 has shattered that impetus and many o...   \n",
       "77   Before COVID-19, Africa needed 600 billion dol...   \n",
       "78   This figure will certainly be reassessed upwards.   \n",
       "80   It calls for developing better  coordination  ...   \n",
       "83   The  Niger  is  convinced  that  the  many  th...   \n",
       "90   This requires that the military return to thei...   \n",
       "92   Children are among the first victims of the te...   \n",
       "93   However,  our  region did not create these evils.   \n",
       "94                            They were imposed on it.   \n",
       "95                             Our region is a victim.   \n",
       "97   The efforts of the Sahel States must therefore...   \n",
       "99   I  know  that  they  are  protected  by  resol...   \n",
       "100  A follow-up mechanism must be put in place for...   \n",
       "104  It  is  regrettable  that  the  initially  pro...   \n",
       "112  That is why  we  support  the  call  of  the  ...   \n",
       "115  What relationship do we want to have with our ...   \n",
       "117  The  Niger  loses  approximately  one  hundred...   \n",
       "122              It is imperative that we change them.   \n",
       "127  Mr.  President,A century ago, when the Spanish...   \n",
       "132  The  Niger  reiterates  once  again  its  comm...   \n",
       "146       We  need  to  find  a  new  global  balance.   \n",
       "\n",
       "                                             Sentiment Sentiment_Label  \\\n",
       "12   {'label': 'NEGATIVE', 'score': 0.7013534307479...        NEGATIVE   \n",
       "29   {'label': 'NEGATIVE', 'score': 0.9408290386199...        NEGATIVE   \n",
       "32   {'label': 'NEGATIVE', 'score': 0.9961594343185...        NEGATIVE   \n",
       "33   {'label': 'NEGATIVE', 'score': 0.670411229133606}        NEGATIVE   \n",
       "37   {'label': 'NEGATIVE', 'score': 0.9618145823478...        NEGATIVE   \n",
       "39   {'label': 'NEGATIVE', 'score': 0.9874634146690...        NEGATIVE   \n",
       "41   {'label': 'NEGATIVE', 'score': 0.9705233573913...        NEGATIVE   \n",
       "50   {'label': 'NEGATIVE', 'score': 0.9907577633857...        NEGATIVE   \n",
       "52   {'label': 'NEGATIVE', 'score': 0.9741050601005...        NEGATIVE   \n",
       "55   {'label': 'NEGATIVE', 'score': 0.996084451675415}        NEGATIVE   \n",
       "56   {'label': 'NEGATIVE', 'score': 0.9842431545257...        NEGATIVE   \n",
       "57   {'label': 'NEGATIVE', 'score': 0.9960503578186...        NEGATIVE   \n",
       "60   {'label': 'NEGATIVE', 'score': 0.9976524114608...        NEGATIVE   \n",
       "61   {'label': 'NEGATIVE', 'score': 0.9253312349319...        NEGATIVE   \n",
       "62   {'label': 'NEGATIVE', 'score': 0.9980947971343...        NEGATIVE   \n",
       "63   {'label': 'NEGATIVE', 'score': 0.9981849193572...        NEGATIVE   \n",
       "76   {'label': 'NEGATIVE', 'score': 0.9969586133956...        NEGATIVE   \n",
       "77   {'label': 'NEGATIVE', 'score': 0.9755163788795...        NEGATIVE   \n",
       "78   {'label': 'NEGATIVE', 'score': 0.988436222076416}        NEGATIVE   \n",
       "80   {'label': 'NEGATIVE', 'score': 0.6928309202194...        NEGATIVE   \n",
       "83   {'label': 'NEGATIVE', 'score': 0.8760722875595...        NEGATIVE   \n",
       "90   {'label': 'NEGATIVE', 'score': 0.9847983121871...        NEGATIVE   \n",
       "92   {'label': 'NEGATIVE', 'score': 0.9891852736473...        NEGATIVE   \n",
       "93   {'label': 'NEGATIVE', 'score': 0.9911567568778...        NEGATIVE   \n",
       "94   {'label': 'NEGATIVE', 'score': 0.9912617206573...        NEGATIVE   \n",
       "95   {'label': 'NEGATIVE', 'score': 0.9992679357528...        NEGATIVE   \n",
       "97   {'label': 'NEGATIVE', 'score': 0.6401514410972...        NEGATIVE   \n",
       "99   {'label': 'NEGATIVE', 'score': 0.8726963400840...        NEGATIVE   \n",
       "100  {'label': 'NEGATIVE', 'score': 0.9868869781494...        NEGATIVE   \n",
       "104  {'label': 'NEGATIVE', 'score': 0.9994009733200...        NEGATIVE   \n",
       "112  {'label': 'NEGATIVE', 'score': 0.9992907047271...        NEGATIVE   \n",
       "115  {'label': 'NEGATIVE', 'score': 0.9171050786972...        NEGATIVE   \n",
       "117  {'label': 'NEGATIVE', 'score': 0.9996247887611...        NEGATIVE   \n",
       "122  {'label': 'NEGATIVE', 'score': 0.9910160303115...        NEGATIVE   \n",
       "127  {'label': 'NEGATIVE', 'score': 0.9152731895446...        NEGATIVE   \n",
       "132  {'label': 'NEGATIVE', 'score': 0.6953043341636...        NEGATIVE   \n",
       "146  {'label': 'NEGATIVE', 'score': 0.9870244264602...        NEGATIVE   \n",
       "\n",
       "     Sentiment_Score  \n",
       "12         -0.701353  \n",
       "29         -0.940829  \n",
       "32         -0.996159  \n",
       "33         -0.670411  \n",
       "37         -0.961815  \n",
       "39         -0.987463  \n",
       "41         -0.970523  \n",
       "50         -0.990758  \n",
       "52         -0.974105  \n",
       "55         -0.996084  \n",
       "56         -0.984243  \n",
       "57         -0.996050  \n",
       "60         -0.997652  \n",
       "61         -0.925331  \n",
       "62         -0.998095  \n",
       "63         -0.998185  \n",
       "76         -0.996959  \n",
       "77         -0.975516  \n",
       "78         -0.988436  \n",
       "80         -0.692831  \n",
       "83         -0.876072  \n",
       "90         -0.984798  \n",
       "92         -0.989185  \n",
       "93         -0.991157  \n",
       "94         -0.991262  \n",
       "95         -0.999268  \n",
       "97         -0.640151  \n",
       "99         -0.872696  \n",
       "100        -0.986887  \n",
       "104        -0.999401  \n",
       "112        -0.999291  \n",
       "115        -0.917105  \n",
       "117        -0.999625  \n",
       "122        -0.991016  \n",
       "127        -0.915273  \n",
       "132        -0.695304  \n",
       "146        -0.987024  "
      ]
     },
     "execution_count": 80,
     "metadata": {},
     "output_type": "execute_result"
    }
   ],
   "source": [
    "pm[pm.Sentiment_Score<0]"
   ]
  },
  {
   "cell_type": "code",
   "execution_count": 83,
   "metadata": {},
   "outputs": [
    {
     "data": {
      "text/plain": [
       "'A follow-up mechanism must be put in place for the disclosure of information and the implementation of sanctions related to attacks against humanitarian workers.'"
      ]
     },
     "execution_count": 83,
     "metadata": {},
     "output_type": "execute_result"
    }
   ],
   "source": [
    "pm.loc[100][\"text\"]"
   ]
  },
  {
   "cell_type": "code",
   "execution_count": 85,
   "metadata": {},
   "outputs": [
    {
     "name": "stderr",
     "output_type": "stream",
     "text": [
      "Some layers from the model checkpoint at distilbert-base-uncased-finetuned-sst-2-english were not used when initializing TFDistilBertModel: ['dropout_19', 'pre_classifier', 'classifier']\n",
      "- This IS expected if you are initializing TFDistilBertModel from the checkpoint of a model trained on another task or with another architecture (e.g. initializing a BertForSequenceClassification model from a BertForPreTraining model).\n",
      "- This IS NOT expected if you are initializing TFDistilBertModel from the checkpoint of a model that you expect to be exactly identical (initializing a BertForSequenceClassification model from a BertForSequenceClassification model).\n",
      "All the layers of TFDistilBertModel were initialized from the model checkpoint at distilbert-base-uncased-finetuned-sst-2-english.\n",
      "If your task is similar to the task the model of the checkpoint was trained on, you can already use TFDistilBertModel for predictions without further training.\n",
      "Some layers from the model checkpoint at distilbert-base-uncased-finetuned-sst-2-english were not used when initializing TFDistilBertForSequenceClassification: ['dropout_19']\n",
      "- This IS expected if you are initializing TFDistilBertForSequenceClassification from the checkpoint of a model trained on another task or with another architecture (e.g. initializing a BertForSequenceClassification model from a BertForPreTraining model).\n",
      "- This IS NOT expected if you are initializing TFDistilBertForSequenceClassification from the checkpoint of a model that you expect to be exactly identical (initializing a BertForSequenceClassification model from a BertForSequenceClassification model).\n",
      "Some layers of TFDistilBertForSequenceClassification were not initialized from the model checkpoint at distilbert-base-uncased-finetuned-sst-2-english and are newly initialized: ['dropout_233']\n",
      "You should probably TRAIN this model on a down-stream task to be able to use it for predictions and inference.\n"
     ]
    },
    {
     "data": {
      "text/plain": [
       "[{'label': 'NEGATIVE', 'score': 0.9989160895347595}]"
      ]
     },
     "execution_count": 85,
     "metadata": {},
     "output_type": "execute_result"
    }
   ],
   "source": [
    "pipeline('sentiment-analysis')('I hate each and everyone of you')"
   ]
  }
 ],
 "metadata": {
  "kernelspec": {
   "display_name": "Python 3",
   "language": "python",
   "name": "python3"
  },
  "language_info": {
   "codemirror_mode": {
    "name": "ipython",
    "version": 3
   },
   "file_extension": ".py",
   "mimetype": "text/x-python",
   "name": "python",
   "nbconvert_exporter": "python",
   "pygments_lexer": "ipython3",
   "version": "3.8.5"
  }
 },
 "nbformat": 4,
 "nbformat_minor": 4
}
